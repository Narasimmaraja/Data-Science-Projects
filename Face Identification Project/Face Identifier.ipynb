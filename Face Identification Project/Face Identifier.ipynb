{
 "cells": [
  {
   "cell_type": "markdown",
   "id": "0a3a57a3-2fe8-43f1-8503-8dc96fd889b4",
   "metadata": {},
   "source": [
    "Python Libraries"
   ]
  },
  {
   "cell_type": "code",
   "execution_count": 8,
   "id": "e055d25f-48b4-4e34-80ae-2b0061384933",
   "metadata": {},
   "outputs": [],
   "source": [
    "import cv2\n",
    "import face_recognition\n",
    "import os"
   ]
  },
  {
   "cell_type": "markdown",
   "id": "d3f0c698-8404-4d29-bcfd-5d6a70fe6dea",
   "metadata": {},
   "source": [
    "Upload images and Take Face Encodings "
   ]
  },
  {
   "cell_type": "code",
   "execution_count": 9,
   "id": "f2e94b6c-61e1-4eb3-b9f4-cfda5632a870",
   "metadata": {},
   "outputs": [
    {
     "name": "stdout",
     "output_type": "stream",
     "text": [
      "['.ipynb_checkpoints', 'Elon Musk.webp', 'M S Dhoni.jfif', 'Mark Zuckerberg.webp', 'Narasimma Raja.jpg', 'Tom Cruise.webp', 'Virat Kohli.jfif']\n"
     ]
    }
   ],
   "source": [
    "kwn=\"known\"                   #Your Images Folder Path\n",
    "kwn_imgs=os.listdir(kwn)\n",
    "print(kwn_imgs)               \n",
    "kwn_lst=[]\n",
    "for i in kwn_imgs[1:]:\n",
    "    path='known'+\"\\\\\"+str(i)\n",
    "    x=cv2.imread(path)\n",
    "    rbg=cv2.cvtColor(x,cv2.COLOR_BGR2RGB)\n",
    "    o=face_recognition.face_encodings(rbg) #Face Encodings\n",
    "    if o:\n",
    "        fn=i.split(\".\")\n",
    "        kwn_lst.append((o[0],fn[0]))  #Store name of the image with it's encoding\n",
    "thresh=0.6"
   ]
  },
  {
   "cell_type": "markdown",
   "id": "4d61aae2-4242-457a-a2a1-fefee5fdfdad",
   "metadata": {},
   "source": [
    "Use Web Cam To Identify Faces"
   ]
  },
  {
   "cell_type": "code",
   "execution_count": null,
   "id": "60bd1635-a30d-46fa-ba75-87f1fdbacf16",
   "metadata": {},
   "outputs": [],
   "source": [
    "cam=cv2.VideoCapture(0)\n",
    "while True:\n",
    "    _,cm=cam.read()\n",
    "    rgb=cv2.cvtColor(cm,cv2.COLOR_BGR2RGB)\n",
    "    loc=face_recognition.face_locations(rgb)\n",
    "    vdenc=face_recognition.face_encodings(rgb,loc)\n",
    "    for vdenc, (top, right, bottom, left) in zip(vdenc, loc):\n",
    "        for enc,name in kwn_lst:\n",
    "            if any(vdenc):\n",
    "                cmp = face_recognition.compare_faces([enc], vdenc, thresh)\n",
    "                print(enc,vdenc)\n",
    "                print(type(enc),type(vdenc))\n",
    "                if any(cmp):\n",
    "                    cv2.rectangle(cm, (left, top), (right, bottom),  (0,255,0), 3)                  #Draw rectangle in faces\n",
    "                    cv2.putText(cm,f\"{name}\", (left+10, top-20), cv2.FONT_HERSHEY_TRIPLEX, 1, (255,80, 80) , 2)  #Show name of the face\n",
    "                    \n",
    "    cv2.imshow(\"output\",cm)\n",
    "    k = cv2.waitKey(30) & 0xff\n",
    "    if k == 27:\n",
    "        break\n",
    "\n",
    "\n",
    "cv2.destroyAllWindows()\n",
    "cam.release()"
   ]
  }
 ],
 "metadata": {
  "kernelspec": {
   "display_name": "Python 3 (ipykernel)",
   "language": "python",
   "name": "python3"
  },
  "language_info": {
   "codemirror_mode": {
    "name": "ipython",
    "version": 3
   },
   "file_extension": ".py",
   "mimetype": "text/x-python",
   "name": "python",
   "nbconvert_exporter": "python",
   "pygments_lexer": "ipython3",
   "version": "3.10.5"
  }
 },
 "nbformat": 4,
 "nbformat_minor": 5
}

{
 "cells": [
  {
   "cell_type": "markdown",
   "metadata": {},
   "source": [
    "Change BG "
   ]
  },
  {
   "cell_type": "code",
   "execution_count": 1,
   "metadata": {},
   "outputs": [
    {
     "name": "stdout",
     "output_type": "stream",
     "text": [
      "Requirement already satisfied: tensorflow-docs in c:\\users\\lenovo\\appdata\\roaming\\python\\python310\\site-packages (2023.5.24.56664)\n",
      "Requirement already satisfied: absl-py in c:\\users\\lenovo\\appdata\\local\\programs\\python\\python310\\lib\\site-packages (from tensorflow-docs) (2.0.0)\n",
      "Requirement already satisfied: astor in c:\\users\\lenovo\\appdata\\roaming\\python\\python310\\site-packages (from tensorflow-docs) (0.8.1)\n",
      "Requirement already satisfied: jinja2 in c:\\users\\lenovo\\appdata\\local\\programs\\python\\python310\\lib\\site-packages (from tensorflow-docs) (3.1.2)\n",
      "Requirement already satisfied: nbformat in c:\\users\\lenovo\\appdata\\local\\programs\\python\\python310\\lib\\site-packages (from tensorflow-docs) (5.9.2)\n",
      "Requirement already satisfied: protobuf>=3.12 in c:\\users\\lenovo\\appdata\\local\\programs\\python\\python310\\lib\\site-packages (from tensorflow-docs) (3.20.3)\n",
      "Requirement already satisfied: pyyaml in c:\\users\\lenovo\\appdata\\local\\programs\\python\\python310\\lib\\site-packages (from tensorflow-docs) (6.0.1)\n",
      "Requirement already satisfied: MarkupSafe>=2.0 in c:\\users\\lenovo\\appdata\\local\\programs\\python\\python310\\lib\\site-packages (from jinja2->tensorflow-docs) (2.1.3)\n",
      "Requirement already satisfied: fastjsonschema in c:\\users\\lenovo\\appdata\\local\\programs\\python\\python310\\lib\\site-packages (from nbformat->tensorflow-docs) (2.19.0)\n",
      "Requirement already satisfied: jsonschema>=2.6 in c:\\users\\lenovo\\appdata\\local\\programs\\python\\python310\\lib\\site-packages (from nbformat->tensorflow-docs) (4.20.0)\n",
      "Requirement already satisfied: jupyter-core in c:\\users\\lenovo\\appdata\\local\\programs\\python\\python310\\lib\\site-packages (from nbformat->tensorflow-docs) (5.5.1)\n",
      "Requirement already satisfied: traitlets>=5.1 in c:\\users\\lenovo\\appdata\\local\\programs\\python\\python310\\lib\\site-packages (from nbformat->tensorflow-docs) (5.14.0)\n",
      "Requirement already satisfied: attrs>=22.2.0 in c:\\users\\lenovo\\appdata\\local\\programs\\python\\python310\\lib\\site-packages (from jsonschema>=2.6->nbformat->tensorflow-docs) (23.1.0)\n",
      "Requirement already satisfied: jsonschema-specifications>=2023.03.6 in c:\\users\\lenovo\\appdata\\local\\programs\\python\\python310\\lib\\site-packages (from jsonschema>=2.6->nbformat->tensorflow-docs) (2023.11.2)\n",
      "Requirement already satisfied: referencing>=0.28.4 in c:\\users\\lenovo\\appdata\\local\\programs\\python\\python310\\lib\\site-packages (from jsonschema>=2.6->nbformat->tensorflow-docs) (0.32.0)\n",
      "Requirement already satisfied: rpds-py>=0.7.1 in c:\\users\\lenovo\\appdata\\local\\programs\\python\\python310\\lib\\site-packages (from jsonschema>=2.6->nbformat->tensorflow-docs) (0.15.2)\n",
      "Requirement already satisfied: platformdirs>=2.5 in c:\\users\\lenovo\\appdata\\local\\programs\\python\\python310\\lib\\site-packages (from jupyter-core->nbformat->tensorflow-docs) (4.1.0)\n",
      "Requirement already satisfied: pywin32>=300 in c:\\users\\lenovo\\appdata\\local\\programs\\python\\python310\\lib\\site-packages (from jupyter-core->nbformat->tensorflow-docs) (306)\n"
     ]
    }
   ],
   "source": [
    "!pip install --upgrade tensorflow-docs\n"
   ]
  },
  {
   "cell_type": "code",
   "execution_count": 2,
   "metadata": {},
   "outputs": [
    {
     "name": "stdout",
     "output_type": "stream",
     "text": [
      "Requirement already satisfied: mediapipe in c:\\users\\lenovo\\appdata\\local\\programs\\python\\python310\\lib\\site-packages (0.10.9)\n",
      "Requirement already satisfied: absl-py in c:\\users\\lenovo\\appdata\\local\\programs\\python\\python310\\lib\\site-packages (from mediapipe) (2.0.0)\n",
      "Requirement already satisfied: attrs>=19.1.0 in c:\\users\\lenovo\\appdata\\local\\programs\\python\\python310\\lib\\site-packages (from mediapipe) (23.1.0)\n",
      "Requirement already satisfied: flatbuffers>=2.0 in c:\\users\\lenovo\\appdata\\local\\programs\\python\\python310\\lib\\site-packages (from mediapipe) (23.5.26)\n",
      "Requirement already satisfied: matplotlib in c:\\users\\lenovo\\appdata\\local\\programs\\python\\python310\\lib\\site-packages (from mediapipe) (3.8.2)\n",
      "Requirement already satisfied: numpy in c:\\users\\lenovo\\appdata\\local\\programs\\python\\python310\\lib\\site-packages (from mediapipe) (1.26.2)\n",
      "Requirement already satisfied: opencv-contrib-python in c:\\users\\lenovo\\appdata\\local\\programs\\python\\python310\\lib\\site-packages (from mediapipe) (4.8.1.78)\n",
      "Requirement already satisfied: protobuf<4,>=3.11 in c:\\users\\lenovo\\appdata\\local\\programs\\python\\python310\\lib\\site-packages (from mediapipe) (3.20.3)\n",
      "Requirement already satisfied: sounddevice>=0.4.4 in c:\\users\\lenovo\\appdata\\local\\programs\\python\\python310\\lib\\site-packages (from mediapipe) (0.4.6)\n",
      "Requirement already satisfied: CFFI>=1.0 in c:\\users\\lenovo\\appdata\\local\\programs\\python\\python310\\lib\\site-packages (from sounddevice>=0.4.4->mediapipe) (1.16.0)\n",
      "Requirement already satisfied: contourpy>=1.0.1 in c:\\users\\lenovo\\appdata\\local\\programs\\python\\python310\\lib\\site-packages (from matplotlib->mediapipe) (1.2.0)\n",
      "Requirement already satisfied: cycler>=0.10 in c:\\users\\lenovo\\appdata\\local\\programs\\python\\python310\\lib\\site-packages (from matplotlib->mediapipe) (0.12.1)\n",
      "Requirement already satisfied: fonttools>=4.22.0 in c:\\users\\lenovo\\appdata\\local\\programs\\python\\python310\\lib\\site-packages (from matplotlib->mediapipe) (4.47.0)\n",
      "Requirement already satisfied: kiwisolver>=1.3.1 in c:\\users\\lenovo\\appdata\\local\\programs\\python\\python310\\lib\\site-packages (from matplotlib->mediapipe) (1.4.5)\n",
      "Requirement already satisfied: packaging>=20.0 in c:\\users\\lenovo\\appdata\\local\\programs\\python\\python310\\lib\\site-packages (from matplotlib->mediapipe) (23.2)\n",
      "Requirement already satisfied: pillow>=8 in c:\\users\\lenovo\\appdata\\local\\programs\\python\\python310\\lib\\site-packages (from matplotlib->mediapipe) (10.1.0)\n",
      "Requirement already satisfied: pyparsing>=2.3.1 in c:\\users\\lenovo\\appdata\\local\\programs\\python\\python310\\lib\\site-packages (from matplotlib->mediapipe) (3.1.1)\n",
      "Requirement already satisfied: python-dateutil>=2.7 in c:\\users\\lenovo\\appdata\\local\\programs\\python\\python310\\lib\\site-packages (from matplotlib->mediapipe) (2.8.2)\n",
      "Requirement already satisfied: pycparser in c:\\users\\lenovo\\appdata\\local\\programs\\python\\python310\\lib\\site-packages (from CFFI>=1.0->sounddevice>=0.4.4->mediapipe) (2.21)\n",
      "Requirement already satisfied: six>=1.5 in c:\\users\\lenovo\\appdata\\local\\programs\\python\\python310\\lib\\site-packages (from python-dateutil>=2.7->matplotlib->mediapipe) (1.16.0)\n"
     ]
    }
   ],
   "source": [
    "!pip install --upgrade mediapipe\n"
   ]
  },
  {
   "cell_type": "code",
   "execution_count": 3,
   "metadata": {},
   "outputs": [
    {
     "name": "stdout",
     "output_type": "stream",
     "text": [
      "Requirement already satisfied: pip in c:\\users\\lenovo\\appdata\\local\\programs\\python\\python310\\lib\\site-packages (23.3.2)\n"
     ]
    }
   ],
   "source": [
    "!pip install --upgrade pip\n"
   ]
  },
  {
   "cell_type": "code",
   "execution_count": 4,
   "metadata": {},
   "outputs": [
    {
     "name": "stdout",
     "output_type": "stream",
     "text": [
      "Requirement already satisfied: tensorflow-docs in c:\\users\\lenovo\\appdata\\roaming\\python\\python310\\site-packages (2023.5.24.56664)\n",
      "Requirement already satisfied: absl-py in c:\\users\\lenovo\\appdata\\local\\programs\\python\\python310\\lib\\site-packages (from tensorflow-docs) (2.0.0)\n",
      "Requirement already satisfied: astor in c:\\users\\lenovo\\appdata\\roaming\\python\\python310\\site-packages (from tensorflow-docs) (0.8.1)\n",
      "Requirement already satisfied: jinja2 in c:\\users\\lenovo\\appdata\\local\\programs\\python\\python310\\lib\\site-packages (from tensorflow-docs) (3.1.2)\n",
      "Requirement already satisfied: nbformat in c:\\users\\lenovo\\appdata\\local\\programs\\python\\python310\\lib\\site-packages (from tensorflow-docs) (5.9.2)\n",
      "Requirement already satisfied: protobuf>=3.12 in c:\\users\\lenovo\\appdata\\local\\programs\\python\\python310\\lib\\site-packages (from tensorflow-docs) (3.20.3)\n",
      "Requirement already satisfied: pyyaml in c:\\users\\lenovo\\appdata\\local\\programs\\python\\python310\\lib\\site-packages (from tensorflow-docs) (6.0.1)\n",
      "Requirement already satisfied: MarkupSafe>=2.0 in c:\\users\\lenovo\\appdata\\local\\programs\\python\\python310\\lib\\site-packages (from jinja2->tensorflow-docs) (2.1.3)\n",
      "Requirement already satisfied: fastjsonschema in c:\\users\\lenovo\\appdata\\local\\programs\\python\\python310\\lib\\site-packages (from nbformat->tensorflow-docs) (2.19.0)\n",
      "Requirement already satisfied: jsonschema>=2.6 in c:\\users\\lenovo\\appdata\\local\\programs\\python\\python310\\lib\\site-packages (from nbformat->tensorflow-docs) (4.20.0)\n",
      "Requirement already satisfied: jupyter-core in c:\\users\\lenovo\\appdata\\local\\programs\\python\\python310\\lib\\site-packages (from nbformat->tensorflow-docs) (5.5.1)\n",
      "Requirement already satisfied: traitlets>=5.1 in c:\\users\\lenovo\\appdata\\local\\programs\\python\\python310\\lib\\site-packages (from nbformat->tensorflow-docs) (5.14.0)\n",
      "Requirement already satisfied: attrs>=22.2.0 in c:\\users\\lenovo\\appdata\\local\\programs\\python\\python310\\lib\\site-packages (from jsonschema>=2.6->nbformat->tensorflow-docs) (23.1.0)\n",
      "Requirement already satisfied: jsonschema-specifications>=2023.03.6 in c:\\users\\lenovo\\appdata\\local\\programs\\python\\python310\\lib\\site-packages (from jsonschema>=2.6->nbformat->tensorflow-docs) (2023.11.2)\n",
      "Requirement already satisfied: referencing>=0.28.4 in c:\\users\\lenovo\\appdata\\local\\programs\\python\\python310\\lib\\site-packages (from jsonschema>=2.6->nbformat->tensorflow-docs) (0.32.0)\n",
      "Requirement already satisfied: rpds-py>=0.7.1 in c:\\users\\lenovo\\appdata\\local\\programs\\python\\python310\\lib\\site-packages (from jsonschema>=2.6->nbformat->tensorflow-docs) (0.15.2)\n",
      "Requirement already satisfied: platformdirs>=2.5 in c:\\users\\lenovo\\appdata\\local\\programs\\python\\python310\\lib\\site-packages (from jupyter-core->nbformat->tensorflow-docs) (4.1.0)\n",
      "Requirement already satisfied: pywin32>=300 in c:\\users\\lenovo\\appdata\\local\\programs\\python\\python310\\lib\\site-packages (from jupyter-core->nbformat->tensorflow-docs) (306)\n"
     ]
    }
   ],
   "source": [
    "!pip install tensorflow-docs\n",
    "\n"
   ]
  },
  {
   "cell_type": "code",
   "execution_count": 5,
   "metadata": {},
   "outputs": [
    {
     "name": "stdout",
     "output_type": "stream",
     "text": [
      "Requirement already satisfied: cvzone in c:\\users\\lenovo\\appdata\\roaming\\python\\python310\\site-packages (1.6.1)\n",
      "Requirement already satisfied: opencv-python in c:\\users\\lenovo\\appdata\\roaming\\python\\python310\\site-packages (from cvzone) (4.8.1.78)\n",
      "Requirement already satisfied: numpy in c:\\users\\lenovo\\appdata\\local\\programs\\python\\python310\\lib\\site-packages (from cvzone) (1.26.2)\n"
     ]
    }
   ],
   "source": [
    "!pip install cvzone --user"
   ]
  },
  {
   "cell_type": "code",
   "execution_count": 6,
   "metadata": {},
   "outputs": [
    {
     "name": "stdout",
     "output_type": "stream",
     "text": [
      "Requirement already satisfied: tensorflow_docs in c:\\users\\lenovo\\appdata\\roaming\\python\\python310\\site-packages (2023.5.24.56664)\n",
      "Requirement already satisfied: absl-py in c:\\users\\lenovo\\appdata\\local\\programs\\python\\python310\\lib\\site-packages (from tensorflow_docs) (2.0.0)\n",
      "Requirement already satisfied: astor in c:\\users\\lenovo\\appdata\\roaming\\python\\python310\\site-packages (from tensorflow_docs) (0.8.1)\n",
      "Requirement already satisfied: jinja2 in c:\\users\\lenovo\\appdata\\local\\programs\\python\\python310\\lib\\site-packages (from tensorflow_docs) (3.1.2)\n",
      "Requirement already satisfied: nbformat in c:\\users\\lenovo\\appdata\\local\\programs\\python\\python310\\lib\\site-packages (from tensorflow_docs) (5.9.2)\n",
      "Requirement already satisfied: protobuf>=3.12 in c:\\users\\lenovo\\appdata\\local\\programs\\python\\python310\\lib\\site-packages (from tensorflow_docs) (3.20.3)\n",
      "Requirement already satisfied: pyyaml in c:\\users\\lenovo\\appdata\\local\\programs\\python\\python310\\lib\\site-packages (from tensorflow_docs) (6.0.1)\n",
      "Requirement already satisfied: MarkupSafe>=2.0 in c:\\users\\lenovo\\appdata\\local\\programs\\python\\python310\\lib\\site-packages (from jinja2->tensorflow_docs) (2.1.3)\n",
      "Requirement already satisfied: fastjsonschema in c:\\users\\lenovo\\appdata\\local\\programs\\python\\python310\\lib\\site-packages (from nbformat->tensorflow_docs) (2.19.0)\n",
      "Requirement already satisfied: jsonschema>=2.6 in c:\\users\\lenovo\\appdata\\local\\programs\\python\\python310\\lib\\site-packages (from nbformat->tensorflow_docs) (4.20.0)\n",
      "Requirement already satisfied: jupyter-core in c:\\users\\lenovo\\appdata\\local\\programs\\python\\python310\\lib\\site-packages (from nbformat->tensorflow_docs) (5.5.1)\n",
      "Requirement already satisfied: traitlets>=5.1 in c:\\users\\lenovo\\appdata\\local\\programs\\python\\python310\\lib\\site-packages (from nbformat->tensorflow_docs) (5.14.0)\n",
      "Requirement already satisfied: attrs>=22.2.0 in c:\\users\\lenovo\\appdata\\local\\programs\\python\\python310\\lib\\site-packages (from jsonschema>=2.6->nbformat->tensorflow_docs) (23.1.0)\n",
      "Requirement already satisfied: jsonschema-specifications>=2023.03.6 in c:\\users\\lenovo\\appdata\\local\\programs\\python\\python310\\lib\\site-packages (from jsonschema>=2.6->nbformat->tensorflow_docs) (2023.11.2)\n",
      "Requirement already satisfied: referencing>=0.28.4 in c:\\users\\lenovo\\appdata\\local\\programs\\python\\python310\\lib\\site-packages (from jsonschema>=2.6->nbformat->tensorflow_docs) (0.32.0)\n",
      "Requirement already satisfied: rpds-py>=0.7.1 in c:\\users\\lenovo\\appdata\\local\\programs\\python\\python310\\lib\\site-packages (from jsonschema>=2.6->nbformat->tensorflow_docs) (0.15.2)\n",
      "Requirement already satisfied: platformdirs>=2.5 in c:\\users\\lenovo\\appdata\\local\\programs\\python\\python310\\lib\\site-packages (from jupyter-core->nbformat->tensorflow_docs) (4.1.0)\n",
      "Requirement already satisfied: pywin32>=300 in c:\\users\\lenovo\\appdata\\local\\programs\\python\\python310\\lib\\site-packages (from jupyter-core->nbformat->tensorflow_docs) (306)\n"
     ]
    }
   ],
   "source": [
    "!pip install tensorflow_docs --user"
   ]
  },
  {
   "cell_type": "code",
   "execution_count": 7,
   "metadata": {},
   "outputs": [],
   "source": [
    "from tensorflow_docs.api_generator import doc_controls"
   ]
  },
  {
   "cell_type": "code",
   "execution_count": 8,
   "metadata": {},
   "outputs": [
    {
     "name": "stdout",
     "output_type": "stream",
     "text": [
      "['bg room 3.jpg', 'bg room.jpg', 'bgig2.jpg', 'bgimg.jpg']\n"
     ]
    }
   ],
   "source": [
    "import cvzone\n",
    "import cv2\n",
    "from tensorflow_docs.api_generator import doc_controls\n",
    "import mediapipe as mp\n",
    "mp_selfie = mp.solutions.selfie_segmentation\n",
    "import os\n",
    "from cvzone.SelfiSegmentationModule import SelfiSegmentation\n",
    "segmentor=SelfiSegmentation()\n",
    "c=cv2.VideoCapture(0)          \n",
    "c.set(3, 640)\n",
    "c.set(4, 480)\n",
    "imglist=os.listdir(\"C:/Users/LENOVO/Back Ground Changer/BG images\")\n",
    "imglist=imglist[1:] \n",
    "ind=0\n",
    "print(imglist)\n",
    "\n",
    "while True:\n",
    "    _,red=c.read()\n",
    "    rem=segmentor.removeBG(red,cv2.imread(\"C:/Users/LENOVO/Back Ground Changer/BG images/\"+str(imglist[ind])),0.4) #remove bg 0.4 is threshold \"Back Ground Changer/\"+str(imglist[ind])\n",
    "    cv2.imshow(\"input\",red)\n",
    "    cv2.imshow(\"output\",rem)\n",
    "    k = cv2.waitKey(1)\n",
    "    if k == 27:\n",
    "        break\n",
    "    elif k==ord(\"q\"):                     #To move previous image\n",
    "        ind=ind-1\n",
    "        if ind<0:                      \n",
    "            ind=ind+len(imglist)\n",
    "    elif k==ord(\"w\"):                     #To next image\n",
    "        ind=ind+1\n",
    "        if ind==len(imglist):\n",
    "            ind=ind-len(imglist)\n",
    "cv2.waitKey(0)\n",
    "cv2.destroyAllWindows()"
   ]
  },
  {
   "cell_type": "code",
   "execution_count": null,
   "metadata": {},
   "outputs": [],
   "source": []
  }
 ],
 "metadata": {
  "kernelspec": {
   "display_name": "Python 3 (ipykernel)",
   "language": "python",
   "name": "python3"
  },
  "language_info": {
   "codemirror_mode": {
    "name": "ipython",
    "version": 3
   },
   "file_extension": ".py",
   "mimetype": "text/x-python",
   "name": "python",
   "nbconvert_exporter": "python",
   "pygments_lexer": "ipython3",
   "version": "3.10.5"
  }
 },
 "nbformat": 4,
 "nbformat_minor": 4
}
